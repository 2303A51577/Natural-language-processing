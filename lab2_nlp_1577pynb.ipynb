{
  "nbformat": 4,
  "nbformat_minor": 0,
  "metadata": {
    "colab": {
      "provenance": [],
      "authorship_tag": "ABX9TyO4kO1TFLIRhuUVHH1ccpnW",
      "include_colab_link": true
    },
    "kernelspec": {
      "name": "python3",
      "display_name": "Python 3"
    },
    "language_info": {
      "name": "python"
    }
  },
  "cells": [
    {
      "cell_type": "markdown",
      "metadata": {
        "id": "view-in-github",
        "colab_type": "text"
      },
      "source": [
        "<a href=\"https://colab.research.google.com/github/2303A51577/Natural-language-processing/blob/main/lab2_nlp_1577pynb.ipynb\" target=\"_parent\"><img src=\"https://colab.research.google.com/assets/colab-badge.svg\" alt=\"Open In Colab\"/></a>"
      ]
    },
    {
      "cell_type": "code",
      "source": [
        "!pip install spacy"
      ],
      "metadata": {
        "colab": {
          "base_uri": "https://localhost:8080/"
        },
        "id": "gTBFq4jm-OQn",
        "outputId": "002690da-9283-437a-9924-010185784f5e"
      },
      "execution_count": 4,
      "outputs": [
        {
          "output_type": "stream",
          "name": "stdout",
          "text": [
            "Requirement already satisfied: spacy in /usr/local/lib/python3.11/dist-packages (3.8.7)\n",
            "Requirement already satisfied: spacy-legacy<3.1.0,>=3.0.11 in /usr/local/lib/python3.11/dist-packages (from spacy) (3.0.12)\n",
            "Requirement already satisfied: spacy-loggers<2.0.0,>=1.0.0 in /usr/local/lib/python3.11/dist-packages (from spacy) (1.0.5)\n",
            "Requirement already satisfied: murmurhash<1.1.0,>=0.28.0 in /usr/local/lib/python3.11/dist-packages (from spacy) (1.0.13)\n",
            "Requirement already satisfied: cymem<2.1.0,>=2.0.2 in /usr/local/lib/python3.11/dist-packages (from spacy) (2.0.11)\n",
            "Requirement already satisfied: preshed<3.1.0,>=3.0.2 in /usr/local/lib/python3.11/dist-packages (from spacy) (3.0.10)\n",
            "Requirement already satisfied: thinc<8.4.0,>=8.3.4 in /usr/local/lib/python3.11/dist-packages (from spacy) (8.3.6)\n",
            "Requirement already satisfied: wasabi<1.2.0,>=0.9.1 in /usr/local/lib/python3.11/dist-packages (from spacy) (1.1.3)\n",
            "Requirement already satisfied: srsly<3.0.0,>=2.4.3 in /usr/local/lib/python3.11/dist-packages (from spacy) (2.5.1)\n",
            "Requirement already satisfied: catalogue<2.1.0,>=2.0.6 in /usr/local/lib/python3.11/dist-packages (from spacy) (2.0.10)\n",
            "Requirement already satisfied: weasel<0.5.0,>=0.1.0 in /usr/local/lib/python3.11/dist-packages (from spacy) (0.4.1)\n",
            "Requirement already satisfied: typer<1.0.0,>=0.3.0 in /usr/local/lib/python3.11/dist-packages (from spacy) (0.16.0)\n",
            "Requirement already satisfied: tqdm<5.0.0,>=4.38.0 in /usr/local/lib/python3.11/dist-packages (from spacy) (4.67.1)\n",
            "Requirement already satisfied: numpy>=1.19.0 in /usr/local/lib/python3.11/dist-packages (from spacy) (2.0.2)\n",
            "Requirement already satisfied: requests<3.0.0,>=2.13.0 in /usr/local/lib/python3.11/dist-packages (from spacy) (2.32.3)\n",
            "Requirement already satisfied: pydantic!=1.8,!=1.8.1,<3.0.0,>=1.7.4 in /usr/local/lib/python3.11/dist-packages (from spacy) (2.11.7)\n",
            "Requirement already satisfied: jinja2 in /usr/local/lib/python3.11/dist-packages (from spacy) (3.1.6)\n",
            "Requirement already satisfied: setuptools in /usr/local/lib/python3.11/dist-packages (from spacy) (75.2.0)\n",
            "Requirement already satisfied: packaging>=20.0 in /usr/local/lib/python3.11/dist-packages (from spacy) (25.0)\n",
            "Requirement already satisfied: langcodes<4.0.0,>=3.2.0 in /usr/local/lib/python3.11/dist-packages (from spacy) (3.5.0)\n",
            "Requirement already satisfied: language-data>=1.2 in /usr/local/lib/python3.11/dist-packages (from langcodes<4.0.0,>=3.2.0->spacy) (1.3.0)\n",
            "Requirement already satisfied: annotated-types>=0.6.0 in /usr/local/lib/python3.11/dist-packages (from pydantic!=1.8,!=1.8.1,<3.0.0,>=1.7.4->spacy) (0.7.0)\n",
            "Requirement already satisfied: pydantic-core==2.33.2 in /usr/local/lib/python3.11/dist-packages (from pydantic!=1.8,!=1.8.1,<3.0.0,>=1.7.4->spacy) (2.33.2)\n",
            "Requirement already satisfied: typing-extensions>=4.12.2 in /usr/local/lib/python3.11/dist-packages (from pydantic!=1.8,!=1.8.1,<3.0.0,>=1.7.4->spacy) (4.14.1)\n",
            "Requirement already satisfied: typing-inspection>=0.4.0 in /usr/local/lib/python3.11/dist-packages (from pydantic!=1.8,!=1.8.1,<3.0.0,>=1.7.4->spacy) (0.4.1)\n",
            "Requirement already satisfied: charset-normalizer<4,>=2 in /usr/local/lib/python3.11/dist-packages (from requests<3.0.0,>=2.13.0->spacy) (3.4.3)\n",
            "Requirement already satisfied: idna<4,>=2.5 in /usr/local/lib/python3.11/dist-packages (from requests<3.0.0,>=2.13.0->spacy) (3.10)\n",
            "Requirement already satisfied: urllib3<3,>=1.21.1 in /usr/local/lib/python3.11/dist-packages (from requests<3.0.0,>=2.13.0->spacy) (2.5.0)\n",
            "Requirement already satisfied: certifi>=2017.4.17 in /usr/local/lib/python3.11/dist-packages (from requests<3.0.0,>=2.13.0->spacy) (2025.8.3)\n",
            "Requirement already satisfied: blis<1.4.0,>=1.3.0 in /usr/local/lib/python3.11/dist-packages (from thinc<8.4.0,>=8.3.4->spacy) (1.3.0)\n",
            "Requirement already satisfied: confection<1.0.0,>=0.0.1 in /usr/local/lib/python3.11/dist-packages (from thinc<8.4.0,>=8.3.4->spacy) (0.1.5)\n",
            "Requirement already satisfied: click>=8.0.0 in /usr/local/lib/python3.11/dist-packages (from typer<1.0.0,>=0.3.0->spacy) (8.2.1)\n",
            "Requirement already satisfied: shellingham>=1.3.0 in /usr/local/lib/python3.11/dist-packages (from typer<1.0.0,>=0.3.0->spacy) (1.5.4)\n",
            "Requirement already satisfied: rich>=10.11.0 in /usr/local/lib/python3.11/dist-packages (from typer<1.0.0,>=0.3.0->spacy) (13.9.4)\n",
            "Requirement already satisfied: cloudpathlib<1.0.0,>=0.7.0 in /usr/local/lib/python3.11/dist-packages (from weasel<0.5.0,>=0.1.0->spacy) (0.21.1)\n",
            "Requirement already satisfied: smart-open<8.0.0,>=5.2.1 in /usr/local/lib/python3.11/dist-packages (from weasel<0.5.0,>=0.1.0->spacy) (7.3.0.post1)\n",
            "Requirement already satisfied: MarkupSafe>=2.0 in /usr/local/lib/python3.11/dist-packages (from jinja2->spacy) (3.0.2)\n",
            "Requirement already satisfied: marisa-trie>=1.1.0 in /usr/local/lib/python3.11/dist-packages (from language-data>=1.2->langcodes<4.0.0,>=3.2.0->spacy) (1.2.1)\n",
            "Requirement already satisfied: markdown-it-py>=2.2.0 in /usr/local/lib/python3.11/dist-packages (from rich>=10.11.0->typer<1.0.0,>=0.3.0->spacy) (4.0.0)\n",
            "Requirement already satisfied: pygments<3.0.0,>=2.13.0 in /usr/local/lib/python3.11/dist-packages (from rich>=10.11.0->typer<1.0.0,>=0.3.0->spacy) (2.19.2)\n",
            "Requirement already satisfied: wrapt in /usr/local/lib/python3.11/dist-packages (from smart-open<8.0.0,>=5.2.1->weasel<0.5.0,>=0.1.0->spacy) (1.17.2)\n",
            "Requirement already satisfied: mdurl~=0.1 in /usr/local/lib/python3.11/dist-packages (from markdown-it-py>=2.2.0->rich>=10.11.0->typer<1.0.0,>=0.3.0->spacy) (0.1.2)\n"
          ]
        }
      ]
    },
    {
      "cell_type": "code",
      "source": [
        "import pandas as pd\n",
        "df=pd.read_csv('/content/Consumer_Complaints.csv')"
      ],
      "metadata": {
        "id": "pW7BJWUQ-n6y"
      },
      "execution_count": 6,
      "outputs": []
    },
    {
      "cell_type": "code",
      "source": [
        "#d=df['Consumer Complaints']\n",
        "print(df)"
      ],
      "metadata": {
        "colab": {
          "base_uri": "https://localhost:8080/"
        },
        "id": "8aHNAZ9K-u7y",
        "outputId": "98379a14-a4d1-41a6-c865-8bc2697da7e0"
      },
      "execution_count": 7,
      "outputs": [
        {
          "output_type": "stream",
          "name": "stdout",
          "text": [
            "       Date received                                            Product  \\\n",
            "0         03-12-2014                                           Mortgage   \n",
            "1         10-01-2016                                   Credit reporting   \n",
            "2         10/17/2016                                      Consumer Loan   \n",
            "3         06-08-2014                                        Credit card   \n",
            "4         09/13/2014                                    Debt collection   \n",
            "...              ...                                                ...   \n",
            "211491    08/22/2014                                           Mortgage   \n",
            "211492    06-03-2013                                           Mortgage   \n",
            "211493    02/28/2014                                        Credit card   \n",
            "211494    02-02-2018  Credit reporting, credit repair services, or o...   \n",
            "211495    05/22/2013                                           Mortgage   \n",
            "\n",
            "                               Sub-product  \\\n",
            "0                           Other mortgage   \n",
            "1                                      NaN   \n",
            "2                             Vehicle loan   \n",
            "3                                      NaN   \n",
            "4                              Credit card   \n",
            "...                                    ...   \n",
            "211491  Home equity loan or line of credit   \n",
            "211492                      Other mortgage   \n",
            "211493                                 NaN   \n",
            "211494                    Credit reporting   \n",
            "211495                      Other mortgage   \n",
            "\n",
            "                                           Issue  \\\n",
            "0       Loan modification,collection,foreclosure   \n",
            "1         Incorrect information on credit report   \n",
            "2                     Managing the loan or lease   \n",
            "3                                     Bankruptcy   \n",
            "4                          Communication tactics   \n",
            "...                                          ...   \n",
            "211491  Loan servicing, payments, escrow account   \n",
            "211492  Loan modification,collection,foreclosure   \n",
            "211493                Closing/Cancelling account   \n",
            "211494      Incorrect information on your report   \n",
            "211495  Loan modification,collection,foreclosure   \n",
            "\n",
            "                                  Sub-issue  \\\n",
            "0                                       NaN   \n",
            "1                            Account status   \n",
            "2                                       NaN   \n",
            "3                                       NaN   \n",
            "4                Frequent or repeated calls   \n",
            "...                                     ...   \n",
            "211491                                  NaN   \n",
            "211492                                  NaN   \n",
            "211493                                  NaN   \n",
            "211494  Information belongs to someone else   \n",
            "211495                                  NaN   \n",
            "\n",
            "                                       Consumer Complaint  \\\n",
            "0                                                     NaN   \n",
            "1       I have outdated information on my credit repor...   \n",
            "2       I purchased a new car on XXXX XXXX. The car de...   \n",
            "3                                                     NaN   \n",
            "4                                                     NaN   \n",
            "...                                                   ...   \n",
            "211491                                                NaN   \n",
            "211492                                                NaN   \n",
            "211493                                                NaN   \n",
            "211494                                                NaN   \n",
            "211495                                                NaN   \n",
            "\n",
            "                                  Company Public Response  \\\n",
            "0                                                     NaN   \n",
            "1       Company has responded to the consumer and the ...   \n",
            "2                                                     NaN   \n",
            "3                                                     NaN   \n",
            "4                                                     NaN   \n",
            "...                                                   ...   \n",
            "211491                                                NaN   \n",
            "211492                                                NaN   \n",
            "211493                                                NaN   \n",
            "211494                                                NaN   \n",
            "211495                                                NaN   \n",
            "\n",
            "                                       Company State ZIP code            Tags  \\\n",
            "0                         M&T BANK CORPORATION    MI    48382             NaN   \n",
            "1       TRANSUNION INTERMEDIATE HOLDINGS, INC.    AL    352XX             NaN   \n",
            "2               CITIZENS FINANCIAL GROUP, INC.    PA    177XX  Older American   \n",
            "3                     AMERICAN EXPRESS COMPANY    ID    83854  Older American   \n",
            "4                               CITIBANK, N.A.    VA    23233             NaN   \n",
            "...                                        ...   ...      ...             ...   \n",
            "211491          CITIZENS FINANCIAL GROUP, INC.    MO    64112             NaN   \n",
            "211492   BANK OF AMERICA, NATIONAL ASSOCIATION    CA    90304             NaN   \n",
            "211493                          CITIBANK, N.A.    HI    96818             NaN   \n",
            "211494                           EQUIFAX, INC.    FL    33167             NaN   \n",
            "211495   BANK OF AMERICA, NATIONAL ASSOCIATION    GA    30097             NaN   \n",
            "\n",
            "       Consumer consent provided? Submitted via Date Sent to Company  \\\n",
            "0                             NaN      Referral           03/17/2014   \n",
            "1                Consent provided           Web           10-05-2016   \n",
            "2                Consent provided           Web           10/20/2016   \n",
            "3                             NaN           Web           06-10-2014   \n",
            "4                             NaN           Web           09/13/2014   \n",
            "...                           ...           ...                  ...   \n",
            "211491                        NaN           Web           08/22/2014   \n",
            "211492                        NaN      Referral           06-10-2013   \n",
            "211493                        NaN           Web           04-01-2014   \n",
            "211494       Consent not provided           Web           02-02-2018   \n",
            "211495                        NaN           NaN                  NaN   \n",
            "\n",
            "           Company Response to Consumer Timely response? Consumer disputed?  \\\n",
            "0               Closed with explanation              Yes                 No   \n",
            "1               Closed with explanation              Yes                 No   \n",
            "2               Closed with explanation              Yes                 No   \n",
            "3               Closed with explanation              Yes                Yes   \n",
            "4               Closed with explanation              Yes                Yes   \n",
            "...                                 ...              ...                ...   \n",
            "211491          Closed with explanation              Yes                 No   \n",
            "211492  Closed with non-monetary relief              Yes                 No   \n",
            "211493          Closed with explanation              Yes                 No   \n",
            "211494          Closed with explanation              Yes                NaN   \n",
            "211495                              NaN              NaN                NaN   \n",
            "\n",
            "        Complaint ID  Unnamed: 18  \n",
            "0           759217.0          NaN  \n",
            "1          2141773.0          NaN  \n",
            "2          2163100.0          NaN  \n",
            "3           885638.0          NaN  \n",
            "4          1027760.0          NaN  \n",
            "...              ...          ...  \n",
            "211491      997929.0          NaN  \n",
            "211492      422381.0          NaN  \n",
            "211493      737058.0          NaN  \n",
            "211494     2801843.0          NaN  \n",
            "211495           NaN          NaN  \n",
            "\n",
            "[211496 rows x 19 columns]\n"
          ]
        }
      ]
    },
    {
      "cell_type": "code",
      "source": [
        "dd=df['Consumer Complaint']"
      ],
      "metadata": {
        "id": "-sv6r32y-yId"
      },
      "execution_count": 8,
      "outputs": []
    },
    {
      "cell_type": "code",
      "source": [
        "print(dd)"
      ],
      "metadata": {
        "colab": {
          "base_uri": "https://localhost:8080/"
        },
        "id": "sg9Ynei5-2ZX",
        "outputId": "ffbc9534-b0fe-46d6-debe-2f5df5a11f10"
      },
      "execution_count": 9,
      "outputs": [
        {
          "output_type": "stream",
          "name": "stdout",
          "text": [
            "0                                                       NaN\n",
            "1         I have outdated information on my credit repor...\n",
            "2         I purchased a new car on XXXX XXXX. The car de...\n",
            "3                                                       NaN\n",
            "4                                                       NaN\n",
            "                                ...                        \n",
            "211491                                                  NaN\n",
            "211492                                                  NaN\n",
            "211493                                                  NaN\n",
            "211494                                                  NaN\n",
            "211495                                                  NaN\n",
            "Name: Consumer Complaint, Length: 211496, dtype: object\n"
          ]
        }
      ]
    },
    {
      "cell_type": "code",
      "source": [
        "d=dd.iloc[1]"
      ],
      "metadata": {
        "id": "AvaCLsj8-5Qb"
      },
      "execution_count": 10,
      "outputs": []
    },
    {
      "cell_type": "code",
      "source": [
        "print(d)"
      ],
      "metadata": {
        "colab": {
          "base_uri": "https://localhost:8080/"
        },
        "id": "XHgcwQkJ-8ai",
        "outputId": "f2ffb111-1c4a-4bb3-eed1-9e8838681c6b"
      },
      "execution_count": 11,
      "outputs": [
        {
          "output_type": "stream",
          "name": "stdout",
          "text": [
            "I have outdated information on my credit report that I have previously disputed that has yet to be removed this information is more then seven years old and does not meet credit reporting requirements\n"
          ]
        }
      ]
    },
    {
      "cell_type": "code",
      "source": [
        "import spacy\n",
        "nlp=spacy.load('en_core_web_sm')"
      ],
      "metadata": {
        "id": "y0q-k0ru-_CT"
      },
      "execution_count": 12,
      "outputs": []
    },
    {
      "cell_type": "code",
      "source": [
        "doc=nlp(d)"
      ],
      "metadata": {
        "id": "cfJ-7jEG_Drm"
      },
      "execution_count": 13,
      "outputs": []
    },
    {
      "cell_type": "code",
      "source": [
        "for i in doc:\n",
        "    print(i.text,\"==\", i.pos_)"
      ],
      "metadata": {
        "colab": {
          "base_uri": "https://localhost:8080/"
        },
        "id": "SsMLVHPc_GeB",
        "outputId": "1ad22cb0-b8fe-45bd-f7d7-895a033487ed"
      },
      "execution_count": 14,
      "outputs": [
        {
          "output_type": "stream",
          "name": "stdout",
          "text": [
            "I == PRON\n",
            "have == VERB\n",
            "outdated == VERB\n",
            "information == NOUN\n",
            "on == ADP\n",
            "my == PRON\n",
            "credit == NOUN\n",
            "report == NOUN\n",
            "that == PRON\n",
            "I == PRON\n",
            "have == AUX\n",
            "previously == ADV\n",
            "disputed == VERB\n",
            "that == PRON\n",
            "has == VERB\n",
            "yet == ADV\n",
            "to == PART\n",
            "be == AUX\n",
            "removed == VERB\n",
            "this == DET\n",
            "information == NOUN\n",
            "is == AUX\n",
            "more == ADV\n",
            "then == ADV\n",
            "seven == NUM\n",
            "years == NOUN\n",
            "old == ADJ\n",
            "and == CCONJ\n",
            "does == AUX\n",
            "not == PART\n",
            "meet == VERB\n",
            "credit == NOUN\n",
            "reporting == NOUN\n",
            "requirements == NOUN\n"
          ]
        }
      ]
    },
    {
      "cell_type": "code",
      "source": [
        "print(df.head(25))"
      ],
      "metadata": {
        "colab": {
          "base_uri": "https://localhost:8080/"
        },
        "id": "KJEJj-HX_KEw",
        "outputId": "844742fd-b658-4e6e-da2c-ad3ef5dc0462"
      },
      "execution_count": 15,
      "outputs": [
        {
          "output_type": "stream",
          "name": "stdout",
          "text": [
            "   Date received                  Product  \\\n",
            "0     03-12-2014                 Mortgage   \n",
            "1     10-01-2016         Credit reporting   \n",
            "2     10/17/2016            Consumer Loan   \n",
            "3     06-08-2014              Credit card   \n",
            "4     09/13/2014          Debt collection   \n",
            "5     11/13/2013                 Mortgage   \n",
            "6     06/16/2015          Debt collection   \n",
            "7     06/15/2015         Credit reporting   \n",
            "8     11/13/2015                 Mortgage   \n",
            "9     10/21/2014                 Mortgage   \n",
            "10    04/14/2017                 Mortgage   \n",
            "11    03/30/2012             Student loan   \n",
            "12    02-03-2016          Debt collection   \n",
            "13    01-07-2015         Credit reporting   \n",
            "14    03/15/2013              Credit card   \n",
            "15    07/18/2016         Credit reporting   \n",
            "16    02/17/2016          Debt collection   \n",
            "17    11-07-2014                 Mortgage   \n",
            "18    04/17/2015                 Mortgage   \n",
            "19    03-09-2016         Credit reporting   \n",
            "20    02-04-2015          Debt collection   \n",
            "21    03/17/2017  Bank account or service   \n",
            "22    03-08-2012                 Mortgage   \n",
            "23    03/27/2013                 Mortgage   \n",
            "24    02/25/2014          Debt collection   \n",
            "\n",
            "                               Sub-product  \\\n",
            "0                           Other mortgage   \n",
            "1                                      NaN   \n",
            "2                             Vehicle loan   \n",
            "3                                      NaN   \n",
            "4                              Credit card   \n",
            "5   Conventional adjustable mortgage (ARM)   \n",
            "6                                  Medical   \n",
            "7                                      NaN   \n",
            "8                           Other mortgage   \n",
            "9              Conventional fixed mortgage   \n",
            "10                          Other mortgage   \n",
            "11                Non-federal student loan   \n",
            "12   Other (i.e. phone, health club, etc.)   \n",
            "13                                     NaN   \n",
            "14                                     NaN   \n",
            "15                                     NaN   \n",
            "16                             Credit card   \n",
            "17             Conventional fixed mortgage   \n",
            "18                            FHA mortgage   \n",
            "19                                     NaN   \n",
            "20                                Mortgage   \n",
            "21                        Checking account   \n",
            "22                          Other mortgage   \n",
            "23             Conventional fixed mortgage   \n",
            "24   Other (i.e. phone, health club, etc.)   \n",
            "\n",
            "                                       Issue  \\\n",
            "0   Loan modification,collection,foreclosure   \n",
            "1     Incorrect information on credit report   \n",
            "2                 Managing the loan or lease   \n",
            "3                                 Bankruptcy   \n",
            "4                      Communication tactics   \n",
            "5   Loan servicing, payments, escrow account   \n",
            "6        Improper contact or sharing of info   \n",
            "7   Credit reporting company's investigation   \n",
            "8   Loan modification,collection,foreclosure   \n",
            "9   Loan modification,collection,foreclosure   \n",
            "10  Loan modification,collection,foreclosure   \n",
            "11                        Repaying your loan   \n",
            "12           Disclosure verification of debt   \n",
            "13    Incorrect information on credit report   \n",
            "14                Closing/Cancelling account   \n",
            "15    Incorrect information on credit report   \n",
            "16       Improper contact or sharing of info   \n",
            "17  Loan modification,collection,foreclosure   \n",
            "18  Application, originator, mortgage broker   \n",
            "19    Incorrect information on credit report   \n",
            "20     Cont'd attempts collect debt not owed   \n",
            "21  Making/receiving payments, sending money   \n",
            "22  Loan servicing, payments, escrow account   \n",
            "23  Loan servicing, payments, escrow account   \n",
            "24     Cont'd attempts collect debt not owed   \n",
            "\n",
            "                                Sub-issue  \\\n",
            "0                                     NaN   \n",
            "1                          Account status   \n",
            "2                                     NaN   \n",
            "3                                     NaN   \n",
            "4              Frequent or repeated calls   \n",
            "5                                     NaN   \n",
            "6   Contacted employer after asked not to   \n",
            "7          Inadequate help over the phone   \n",
            "8                                     NaN   \n",
            "9                                     NaN   \n",
            "10                                    NaN   \n",
            "11                                    NaN   \n",
            "12   Not given enough info to verify debt   \n",
            "13                         Account status   \n",
            "14                                    NaN   \n",
            "15                         Account status   \n",
            "16  Talked to a third party about my debt   \n",
            "17                                    NaN   \n",
            "18                                    NaN   \n",
            "19                Information is not mine   \n",
            "20                          Debt was paid   \n",
            "21                                    NaN   \n",
            "22                                    NaN   \n",
            "23                                    NaN   \n",
            "24                       Debt is not mine   \n",
            "\n",
            "                                   Consumer Complaint  \\\n",
            "0                                                 NaN   \n",
            "1   I have outdated information on my credit repor...   \n",
            "2   I purchased a new car on XXXX XXXX. The car de...   \n",
            "3                                                 NaN   \n",
            "4                                                 NaN   \n",
            "5                                                 NaN   \n",
            "6                                                 NaN   \n",
            "7   An account on my credit report has a mistaken ...   \n",
            "8                                                 NaN   \n",
            "9                                                 NaN   \n",
            "10                                                NaN   \n",
            "11                                                NaN   \n",
            "12  This company refuses to provide me verificatio...   \n",
            "13                                                NaN   \n",
            "14                                                NaN   \n",
            "15                                                NaN   \n",
            "16  This complaint is in regards to Square Two Fin...   \n",
            "17                                                NaN   \n",
            "18                                                NaN   \n",
            "19                                                NaN   \n",
            "20                                                NaN   \n",
            "21                                                NaN   \n",
            "22                                                NaN   \n",
            "23                                                NaN   \n",
            "24                                                NaN   \n",
            "\n",
            "                              Company Public Response  \\\n",
            "0                                                 NaN   \n",
            "1   Company has responded to the consumer and the ...   \n",
            "2                                                 NaN   \n",
            "3                                                 NaN   \n",
            "4                                                 NaN   \n",
            "5                                                 NaN   \n",
            "6   Company believes it acted appropriately as aut...   \n",
            "7    Company chooses not to provide a public response   \n",
            "8   Company believes it acted appropriately as aut...   \n",
            "9                                                 NaN   \n",
            "10  Company believes it acted appropriately as aut...   \n",
            "11                                                NaN   \n",
            "12                                                NaN   \n",
            "13                                                NaN   \n",
            "14                                                NaN   \n",
            "15                                                NaN   \n",
            "16  Company has responded to the consumer and the ...   \n",
            "17                                                NaN   \n",
            "18                                                NaN   \n",
            "19  Company has responded to the consumer and the ...   \n",
            "20                                                NaN   \n",
            "21  Company believes it acted appropriately as aut...   \n",
            "22                                                NaN   \n",
            "23                                                NaN   \n",
            "24                                                NaN   \n",
            "\n",
            "                                   Company State ZIP code            Tags  \\\n",
            "0                     M&T BANK CORPORATION    MI    48382             NaN   \n",
            "1   TRANSUNION INTERMEDIATE HOLDINGS, INC.    AL    352XX             NaN   \n",
            "2           CITIZENS FINANCIAL GROUP, INC.    PA    177XX  Older American   \n",
            "3                 AMERICAN EXPRESS COMPANY    ID    83854  Older American   \n",
            "4                           CITIBANK, N.A.    VA    23233             NaN   \n",
            "5                             U.S. BANCORP    MN    48322             NaN   \n",
            "6              California Accounts Service    CA    92111             NaN   \n",
            "7      Experian Information Solutions Inc.    VA    224XX             NaN   \n",
            "8                       Aldridge Pite, LLP    CA    93101             NaN   \n",
            "9                 OCWEN LOAN SERVICING LLC    FL    32714  Older American   \n",
            "10                Shellpoint Partners, LLC    CA    90305             NaN   \n",
            "11        Student Loan Finance Corporation    MN    55428             NaN   \n",
            "12                     The CBE Group, Inc.    TX    752XX             NaN   \n",
            "13     Experian Information Solutions Inc.    NV    89169             NaN   \n",
            "14            FIRST NATIONAL BANK OF OMAHA    NY    11732             NaN   \n",
            "15                           EQUIFAX, INC.    FL    33629             NaN   \n",
            "16         SQUARETWO FINANCIAL CORPORATION    NE    693XX             NaN   \n",
            "17                            U.S. BANCORP    MT    59801             NaN   \n",
            "18                   WELLS FARGO & COMPANY    ME     4032             NaN   \n",
            "19     Experian Information Solutions Inc.    CA    92703             NaN   \n",
            "20       PHH Mortgage Services Corporation    CA    92021             NaN   \n",
            "21  UNITED SERVICES AUTOMOBILE ASSOCIATION    WI    54005             NaN   \n",
            "22                    Ditech Financial LLC    CA    95361             NaN   \n",
            "23                     NATIONSTAR MORTGAGE    WA    98203             NaN   \n",
            "24                 Navient Solutions, LLC.    RI     2906             NaN   \n",
            "\n",
            "   Consumer consent provided? Submitted via Date Sent to Company  \\\n",
            "0                         NaN      Referral           03/17/2014   \n",
            "1            Consent provided           Web           10-05-2016   \n",
            "2            Consent provided           Web           10/20/2016   \n",
            "3                         NaN           Web           06-10-2014   \n",
            "4                         NaN           Web           09/13/2014   \n",
            "5                         NaN         Phone           11/20/2013   \n",
            "6        Consent not provided           Web           06/19/2015   \n",
            "7            Consent provided           Web           06/15/2015   \n",
            "8                         NaN      Referral           12-10-2015   \n",
            "9                         NaN           Web           10/21/2014   \n",
            "10                        NaN      Referral           04/14/2017   \n",
            "11                        NaN           Web           07-12-2012   \n",
            "12           Consent provided           Web           02-03-2016   \n",
            "13                        NaN      Referral           01/23/2015   \n",
            "14                        NaN      Referral           03/18/2013   \n",
            "15                        NaN           Fax           07/19/2016   \n",
            "16           Consent provided           Web           03-04-2016   \n",
            "17                        NaN           Web           11-07-2014   \n",
            "18       Consent not provided           Web           04/17/2015   \n",
            "19                        NaN         Phone           03-09-2016   \n",
            "20                        NaN           Web           02-10-2015   \n",
            "21                        NaN      Referral           03/20/2017   \n",
            "22                        NaN           Web           03/23/2012   \n",
            "23                        NaN           Web           03/27/2013   \n",
            "24                        NaN           Web           02/24/2014   \n",
            "\n",
            "   Company Response to Consumer Timely response? Consumer disputed?  \\\n",
            "0       Closed with explanation              Yes                 No   \n",
            "1       Closed with explanation              Yes                 No   \n",
            "2       Closed with explanation              Yes                 No   \n",
            "3       Closed with explanation              Yes                Yes   \n",
            "4       Closed with explanation              Yes                Yes   \n",
            "5   Closed with monetary relief              Yes                 No   \n",
            "6       Closed with explanation              Yes                 No   \n",
            "7       Closed with explanation              Yes                 No   \n",
            "8       Closed with explanation              Yes                Yes   \n",
            "9       Closed with explanation              Yes                 No   \n",
            "10      Closed with explanation              Yes                 No   \n",
            "11      Closed with explanation              Yes                 No   \n",
            "12      Closed with explanation              Yes                Yes   \n",
            "13      Closed with explanation              Yes                Yes   \n",
            "14      Closed with explanation              Yes                 No   \n",
            "15      Closed with explanation              Yes                 No   \n",
            "16      Closed with explanation              Yes                Yes   \n",
            "17      Closed with explanation              Yes                 No   \n",
            "18      Closed with explanation              Yes                 No   \n",
            "19      Closed with explanation              Yes                 No   \n",
            "20      Closed with explanation              Yes                Yes   \n",
            "21      Closed with explanation              Yes                 No   \n",
            "22        Closed without relief              Yes                 No   \n",
            "23      Closed with explanation              Yes                 No   \n",
            "24      Closed with explanation              Yes                Yes   \n",
            "\n",
            "    Complaint ID  Unnamed: 18  \n",
            "0       759217.0          NaN  \n",
            "1      2141773.0          NaN  \n",
            "2      2163100.0          NaN  \n",
            "3       885638.0          NaN  \n",
            "4      1027760.0          NaN  \n",
            "5       596562.0          NaN  \n",
            "6      1422680.0          NaN  \n",
            "7      1420702.0          NaN  \n",
            "8      1654890.0          NaN  \n",
            "9      1079567.0          NaN  \n",
            "10     2436165.0          NaN  \n",
            "11       42864.0          NaN  \n",
            "12     1772196.0          NaN  \n",
            "13     1184859.0          NaN  \n",
            "14      357186.0          NaN  \n",
            "15     2017178.0          NaN  \n",
            "16     1790634.0          NaN  \n",
            "17     1107428.0          NaN  \n",
            "18     1334421.0          NaN  \n",
            "19     1823789.0          NaN  \n",
            "20     1224106.0          NaN  \n",
            "21     2393048.0          NaN  \n",
            "22       32412.0          NaN  \n",
            "23      366548.0          NaN  \n",
            "24      730165.0          NaN  \n"
          ]
        }
      ]
    },
    {
      "cell_type": "code",
      "source": [
        "df['char_count'] = df['Consumer Complaint'].fillna('').apply(len)\n",
        "df['word_count'] = df['Consumer Complaint'].fillna('').apply(lambda x: len(x.split()))"
      ],
      "metadata": {
        "id": "xmH1YDbq_N2C"
      },
      "execution_count": 16,
      "outputs": []
    },
    {
      "cell_type": "code",
      "source": [
        "print(df[['Consumer Complaint', 'char_count', 'word_count']])"
      ],
      "metadata": {
        "colab": {
          "base_uri": "https://localhost:8080/"
        },
        "id": "XWi9aNjJ_TcQ",
        "outputId": "266f7151-9503-49e8-b0ba-b65a9506e92c"
      },
      "execution_count": 17,
      "outputs": [
        {
          "output_type": "stream",
          "name": "stdout",
          "text": [
            "                                       Consumer Complaint  char_count  \\\n",
            "0                                                     NaN           0   \n",
            "1       I have outdated information on my credit repor...         200   \n",
            "2       I purchased a new car on XXXX XXXX. The car de...        2042   \n",
            "3                                                     NaN           0   \n",
            "4                                                     NaN           0   \n",
            "...                                                   ...         ...   \n",
            "211491                                                NaN           0   \n",
            "211492                                                NaN           0   \n",
            "211493                                                NaN           0   \n",
            "211494                                                NaN           0   \n",
            "211495                                                NaN           0   \n",
            "\n",
            "        word_count  \n",
            "0                0  \n",
            "1               34  \n",
            "2              394  \n",
            "3                0  \n",
            "4                0  \n",
            "...            ...  \n",
            "211491           0  \n",
            "211492           0  \n",
            "211493           0  \n",
            "211494           0  \n",
            "211495           0  \n",
            "\n",
            "[211496 rows x 3 columns]\n"
          ]
        }
      ]
    },
    {
      "cell_type": "code",
      "source": [
        "text={\"My phone number is 1234567890 and my email is test@domain.com\"\n",
        "\n",
        "\"Visit https://example.com for more info!!!\"\n",
        "\n",
        "\"HELLO!!! This is SOOOOO exciting :))\"\n",
        "\n",
        "\"Contact us at info@company.org or call +91 98765-43210\"\n",
        "\n",
        "\"Python's regex is very useful!!!  #Coding #Fun\"\n",
        "\n",
        "}"
      ],
      "metadata": {
        "id": "35wZeY2YB9Zk"
      },
      "execution_count": 18,
      "outputs": []
    },
    {
      "cell_type": "code",
      "source": [
        "print(text)"
      ],
      "metadata": {
        "colab": {
          "base_uri": "https://localhost:8080/"
        },
        "id": "Nyk6PYxAB-yX",
        "outputId": "955e307a-a815-4794-9a1b-bda7c5cc1816"
      },
      "execution_count": 19,
      "outputs": [
        {
          "output_type": "stream",
          "name": "stdout",
          "text": [
            "{\"My phone number is 1234567890 and my email is test@domain.comVisit https://example.com for more info!!!HELLO!!! This is SOOOOO exciting :))Contact us at info@company.org or call +91 98765-43210Python's regex is very useful!!!  #Coding #Fun\"}\n"
          ]
        }
      ]
    },
    {
      "cell_type": "code",
      "source": [
        "import re\n",
        "\n",
        "for item in text:\n",
        "    phones = re.findall(r'\\d{10}', item)\n",
        "    print(\"phones found:\", phones)"
      ],
      "metadata": {
        "colab": {
          "base_uri": "https://localhost:8080/"
        },
        "id": "gRdQn3SFB-sM",
        "outputId": "3fa76c0e-c9c1-47b6-b97c-5aa30dc1a322"
      },
      "execution_count": 20,
      "outputs": [
        {
          "output_type": "stream",
          "name": "stdout",
          "text": [
            "phones found: ['1234567890']\n"
          ]
        }
      ]
    },
    {
      "cell_type": "code",
      "source": [
        "import re\n",
        "for item in text:\n",
        "    emails = re.findall(r'[\\w\\.-]+@[\\w\\.-]+', item)\n",
        "    print(\"emails found:\", emails)"
      ],
      "metadata": {
        "colab": {
          "base_uri": "https://localhost:8080/"
        },
        "id": "TFPlEcP6CFKN",
        "outputId": "c473898d-01b4-4b3e-faa8-22981f40d373"
      },
      "execution_count": 21,
      "outputs": [
        {
          "output_type": "stream",
          "name": "stdout",
          "text": [
            "emails found: ['test@domain.comVisit', 'info@company.org']\n"
          ]
        }
      ]
    },
    {
      "cell_type": "code",
      "source": [
        "import re\n",
        "for item in text:\n",
        "    URL=re.findall(r'https?://\\S+', item)\n",
        "    print(\"URL found:\", URL)"
      ],
      "metadata": {
        "colab": {
          "base_uri": "https://localhost:8080/"
        },
        "id": "SX9-Yh2oCIKa",
        "outputId": "97aa00a9-1b21-4fac-f1f5-be7948b98ff4"
      },
      "execution_count": 22,
      "outputs": [
        {
          "output_type": "stream",
          "name": "stdout",
          "text": [
            "URL found: ['https://example.com']\n"
          ]
        }
      ]
    },
    {
      "cell_type": "code",
      "source": [
        "import re\n",
        "for item in text:\n",
        "    special_characters=re.findall(r'[^\\w\\s]', item)\n",
        "    print(\"special characters found:\", special_characters)"
      ],
      "metadata": {
        "colab": {
          "base_uri": "https://localhost:8080/"
        },
        "id": "zBs84QE-CLHL",
        "outputId": "0e149b65-f65f-491e-bd07-703564377eb9"
      },
      "execution_count": 23,
      "outputs": [
        {
          "output_type": "stream",
          "name": "stdout",
          "text": [
            "special characters found: ['@', '.', ':', '/', '/', '.', '!', '!', '!', '!', '!', '!', ':', ')', ')', '@', '.', '+', '-', \"'\", '!', '!', '!', '#', '#']\n"
          ]
        }
      ]
    }
  ]
}